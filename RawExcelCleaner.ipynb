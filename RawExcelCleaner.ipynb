{
  "nbformat": 4,
  "nbformat_minor": 0,
  "metadata": {
    "colab": {
      "provenance": [],
      "authorship_tag": "ABX9TyNN0G3g2B3QBAvZDOiE/XmI",
      "include_colab_link": true
    },
    "kernelspec": {
      "name": "python3",
      "display_name": "Python 3"
    },
    "language_info": {
      "name": "python"
    }
  },
  "cells": [
    {
      "cell_type": "markdown",
      "metadata": {
        "id": "view-in-github",
        "colab_type": "text"
      },
      "source": [
        "<a href=\"https://colab.research.google.com/github/sushirito/ArsenicFR/blob/main/RawExcelCleaner.ipynb\" target=\"_parent\"><img src=\"https://colab.research.google.com/assets/colab-badge.svg\" alt=\"Open In Colab\"/></a>"
      ]
    },
    {
      "cell_type": "code",
      "source": [
        "# %% Colab setup\n",
        "import re, numpy as np, pandas as pd, matplotlib.pyplot as plt\n",
        "from google.colab import drive\n",
        "from scipy.signal import savgol_filter\n",
        "from sklearn.linear_model import LinearRegression\n",
        "\n",
        "drive.mount('/content/drive')\n"
      ],
      "metadata": {
        "colab": {
          "base_uri": "https://localhost:8080/"
        },
        "id": "7KnRxgz6TBAh",
        "outputId": "0ca17a5e-80a2-468c-dc2c-41c961559676"
      },
      "execution_count": 1,
      "outputs": [
        {
          "output_type": "stream",
          "name": "stdout",
          "text": [
            "Mounted at /content/drive\n"
          ]
        }
      ]
    },
    {
      "cell_type": "code",
      "execution_count": 2,
      "metadata": {
        "colab": {
          "base_uri": "https://localhost:8080/"
        },
        "id": "oBmepnmkS70A",
        "outputId": "cc623925-a8d2-4055-9fca-1632461126c8"
      },
      "outputs": [
        {
          "output_type": "stream",
          "name": "stdout",
          "text": [
            "Saved: /content/drive/MyDrive/RegeneronSTS/data/20250725_UVScans.csv\n",
            "Column mapping used:\n",
            "0.1MB_AuNP: wavelength='Wavelength', abs='Abs'\n",
            "0.1MB_AuNP_As: wavelength='Wavelength', abs='Abs'\n",
            "0.3MB_AuNP: wavelength='Wavelength', abs='Abs'\n",
            "0.3MB_AuNP_As: wavelength='Wavelength', abs='Abs'\n",
            "0.6MB_AuNP: wavelength='Wavelength', abs='Abs'\n",
            "0.6MB_AuNP_As: wavelength='Wavelength', abs='Abs'\n",
            "0.9MB_AuNP: wavelength='Wavelength', abs='Abs'\n",
            "0.9MB_AuNP_As: wavelength='Wavelength', abs='Abs'\n"
          ]
        }
      ],
      "source": [
        "import pandas as pd\n",
        "\n",
        "# ===== Paths =====\n",
        "xlsx_path = \"/content/drive/MyDrive/RegeneronSTS/data/20250725_UVScans_RawData.xlsx\"\n",
        "out_csv   = \"/content/drive/MyDrive/RegeneronSTS/data/20250725_UVScans.csv\"\n",
        "\n",
        "# ===== Tabs to include =====\n",
        "selected_tabs = [\n",
        "    \"0.1MB_AuNP\", \"0.1MB_AuNP_As\",\n",
        "    \"0.3MB_AuNP\", \"0.3MB_AuNP_As\",\n",
        "    \"0.6MB_AuNP\", \"0.6MB_AuNP_As\",\n",
        "    \"0.9MB_AuNP\", \"0.9MB_AuNP_As\"\n",
        "]\n",
        "\n",
        "\n",
        "def find_wavelength_col(cols):\n",
        "    for c in cols:\n",
        "        if \"wave\" in c.lower():\n",
        "            return c\n",
        "    return cols[0]\n",
        "\n",
        "def find_abs_col(cols):\n",
        "    # Prefer exact 'abs' if present\n",
        "    for c in cols:\n",
        "        if c.lower().strip() == \"abs\":\n",
        "            return c\n",
        "    # Then try common variants that contain 'abs'\n",
        "    for c in cols:\n",
        "        cl = c.lower()\n",
        "        if \"abs\" in cl and \"wavelength\" not in cl:\n",
        "            return c\n",
        "    raise ValueError(\"No absorbance column found\")\n",
        "\n",
        "master = None\n",
        "used_map = {}\n",
        "\n",
        "for sh in selected_tabs:\n",
        "    df = pd.read_excel(xlsx_path, sheet_name=sh)\n",
        "    df.columns = df.columns.astype(str).str.strip()\n",
        "\n",
        "    wcol  = find_wavelength_col(df.columns)\n",
        "    abscol = find_abs_col([c for c in df.columns if c != wcol])\n",
        "\n",
        "    used_map[sh] = {\"wavelength_col\": wcol, \"abs_col\": abscol}\n",
        "\n",
        "    d = pd.DataFrame({\n",
        "        \"Wavelength\": pd.to_numeric(df[wcol], errors=\"coerce\"),\n",
        "        sh: pd.to_numeric(df[abscol], errors=\"coerce\"),\n",
        "    })\n",
        "\n",
        "    if master is None:\n",
        "        master = d\n",
        "    else:\n",
        "        master = pd.merge(master, d, on=\"Wavelength\", how=\"outer\")\n",
        "\n",
        "# Clean and save\n",
        "master = master.sort_values(\"Wavelength\").drop_duplicates(subset=[\"Wavelength\"])\n",
        "master.to_csv(out_csv, index=False)\n",
        "\n",
        "print(f\"Saved: {out_csv}\")\n",
        "print(\"Column mapping used:\")\n",
        "for k, v in used_map.items():\n",
        "    print(f\"{k}: wavelength='{v['wavelength_col']}', abs='{v['abs_col']}'\")\n"
      ]
    },
    {
      "cell_type": "code",
      "source": [
        "import pandas as pd\n",
        "\n",
        "# ===== Paths =====\n",
        "xlsx_path = \"/content/drive/MyDrive/RegeneronSTS/data/20250728_UVScans_RawData.xlsx\"\n",
        "out_csv   = \"/content/drive/MyDrive/RegeneronSTS/data/20250728_UVScans.csv\"\n",
        "\n",
        "# ===== Tabs to include =====\n",
        "selected_tabs = [\n",
        "    \"AuNP\",\n",
        "    \"0.10MB_AuNP\", \"0.11MB_AuNP\", \"0.12MB_AuNP\",\n",
        "    \"0.13MB_AuNP\", \"0.14MB_AuNP\", \"0.15MB_AuNP\",\n",
        "    \"0.16MB_AuNP\", \"0.17MB_AuNP\", \"0.18MB_AuNP\",\n",
        "    \"0.19MB_AuNP\", \"0.20MB_AuNP\"\n",
        "]\n",
        "\n",
        "\n",
        "\n",
        "def find_wavelength_col(cols):\n",
        "    for c in cols:\n",
        "        if \"wave\" in c.lower():\n",
        "            return c\n",
        "    return cols[0]\n",
        "\n",
        "def find_abs_col(cols):\n",
        "    # Prefer exact 'abs' if present\n",
        "    for c in cols:\n",
        "        if c.lower().strip() == \"abs\":\n",
        "            return c\n",
        "    # Then try common variants that contain 'abs'\n",
        "    for c in cols:\n",
        "        cl = c.lower()\n",
        "        if \"abs\" in cl and \"wavelength\" not in cl:\n",
        "            return c\n",
        "    raise ValueError(\"No absorbance column found\")\n",
        "\n",
        "master = None\n",
        "used_map = {}\n",
        "\n",
        "for sh in selected_tabs:\n",
        "    df = pd.read_excel(xlsx_path, sheet_name=sh)\n",
        "    df.columns = df.columns.astype(str).str.strip()\n",
        "\n",
        "    wcol  = find_wavelength_col(df.columns)\n",
        "    abscol = find_abs_col([c for c in df.columns if c != wcol])\n",
        "\n",
        "    used_map[sh] = {\"wavelength_col\": wcol, \"abs_col\": abscol}\n",
        "\n",
        "    d = pd.DataFrame({\n",
        "        \"Wavelength\": pd.to_numeric(df[wcol], errors=\"coerce\"),\n",
        "        sh: pd.to_numeric(df[abscol], errors=\"coerce\"),\n",
        "    })\n",
        "\n",
        "    if master is None:\n",
        "        master = d\n",
        "    else:\n",
        "        master = pd.merge(master, d, on=\"Wavelength\", how=\"outer\")\n",
        "\n",
        "# Clean and save\n",
        "master = master.sort_values(\"Wavelength\").drop_duplicates(subset=[\"Wavelength\"])\n",
        "master.to_csv(out_csv, index=False)\n",
        "\n",
        "print(f\"Saved: {out_csv}\")\n",
        "print(\"Column mapping used:\")\n",
        "for k, v in used_map.items():\n",
        "    print(f\"{k}: wavelength='{v['wavelength_col']}', abs='{v['abs_col']}'\")\n"
      ],
      "metadata": {
        "colab": {
          "base_uri": "https://localhost:8080/"
        },
        "id": "tKk_YSYpUCTb",
        "outputId": "15c9df90-c30d-468c-8e72-27d3861166b8"
      },
      "execution_count": 3,
      "outputs": [
        {
          "output_type": "stream",
          "name": "stdout",
          "text": [
            "Saved: /content/drive/MyDrive/RegeneronSTS/data/20250728_UVScans.csv\n",
            "Column mapping used:\n",
            "AuNP: wavelength='Wavelength', abs='Abs'\n",
            "0.10MB_AuNP: wavelength='Wavelength', abs='Abs'\n",
            "0.11MB_AuNP: wavelength='Wavelength', abs='Abs'\n",
            "0.12MB_AuNP: wavelength='Wavelength', abs='Abs'\n",
            "0.13MB_AuNP: wavelength='Wavelength', abs='Abs'\n",
            "0.14MB_AuNP: wavelength='Wavelength', abs='Abs'\n",
            "0.15MB_AuNP: wavelength='Wavelength', abs='Abs'\n",
            "0.16MB_AuNP: wavelength='Wavelength', abs='Abs'\n",
            "0.17MB_AuNP: wavelength='Wavelength', abs='Abs'\n",
            "0.18MB_AuNP: wavelength='Wavelength', abs='Abs'\n",
            "0.19MB_AuNP: wavelength='Wavelength', abs='Abs'\n",
            "0.20MB_AuNP: wavelength='Wavelength', abs='Abs'\n"
          ]
        }
      ]
    }
  ]
}